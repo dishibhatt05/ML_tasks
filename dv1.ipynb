{
  "nbformat": 4,
  "nbformat_minor": 0,
  "metadata": {
    "colab": {
      "name": "dv1.ipynb",
      "version": "0.3.2",
      "provenance": [],
      "collapsed_sections": [],
      "include_colab_link": true
    },
    "kernelspec": {
      "name": "python3",
      "display_name": "Python 3"
    }
  },
  "cells": [
    {
      "cell_type": "markdown",
      "metadata": {
        "id": "view-in-github",
        "colab_type": "text"
      },
      "source": [
        "<a href=\"https://colab.research.google.com/github/dishibhatt05/ML_tasks/blob/data_processing/dv1.ipynb\" target=\"_parent\"><img src=\"https://colab.research.google.com/assets/colab-badge.svg\" alt=\"Open In Colab\"/></a>"
      ]
    },
    {
      "cell_type": "code",
      "metadata": {
        "id": "Re8JOdNwkWcG",
        "colab_type": "code",
        "colab": {}
      },
      "source": [
        "'''\n",
        "visualize data graphs  \n",
        "i)  take input from  a file where you have 4 rows and 5 columns\n",
        "ii)  columns having - student_name , marks , age , contact , study_hours\n",
        "iii)  visualize this data as pie chart\n",
        "iv)  file name must  student.csv with all column separated by ','\n",
        "\n",
        "'''"
      ],
      "execution_count": 0,
      "outputs": []
    },
    {
      "cell_type": "code",
      "metadata": {
        "id": "BgONmdnikoFB",
        "colab_type": "code",
        "colab": {}
      },
      "source": [
        "import matplotlib.pyplot as plt\n",
        "import pandas as p"
      ],
      "execution_count": 0,
      "outputs": []
    },
    {
      "cell_type": "code",
      "metadata": {
        "id": "ZbMimH80leIH",
        "colab_type": "code",
        "outputId": "adc77ea7-9d62-49a9-de0d-df384c0feea9",
        "colab": {
          "base_uri": "https://localhost:8080/",
          "height": 269
        }
      },
      "source": [
        "data=p.read_csv('student.csv')\n",
        "data\n",
        "plt.title(\"student details\")\n",
        "plt.pie(data.iloc[:,1],labels=data.iloc[:,0],autopct=\"%1.1f%%\",shadow='true')\n",
        "#plt.legend()\n",
        "#plt.axis('equal')\n",
        "plt.show()"
      ],
      "execution_count": 0,
      "outputs": [
        {
          "output_type": "display_data",
          "data": {
            "image/png": "[encoded data removed]",
            "text/plain": [
              "<Figure size 432x288 with 1 Axes>"
            ]
          },
          "metadata": {
            "tags": []
          }
        }
      ]
    },
    {
      "cell_type": "code",
      "metadata": {
        "id": "hD0GQB9dmGCT",
        "colab_type": "code",
        "colab": {}
      },
      "source": [
        ""
      ],
      "execution_count": 0,
      "outputs": []
    }
  ]
}