{
  "nbformat": 4,
  "nbformat_minor": 0,
  "metadata": {
    "colab": {
      "name": "linears.ipynb",
      "version": "0.3.2",
      "provenance": [],
      "collapsed_sections": [],
      "include_colab_link": true
    },
    "kernelspec": {
      "name": "python3",
      "display_name": "Python 3"
    }
  },
  "cells": [
    {
      "cell_type": "markdown",
      "metadata": {
        "id": "view-in-github",
        "colab_type": "text"
      },
      "source": [
        "<a href=\"https://colab.research.google.com/github/dishibhatt05/machine-learning/blob/supervised_learning/linears.ipynb\" target=\"_parent\"><img src=\"https://colab.research.google.com/assets/colab-badge.svg\" alt=\"Open In Colab\"/></a>"
      ]
    },
    {
      "cell_type": "code",
      "metadata": {
        "id": "03H_a0VN-tE8",
        "colab_type": "code",
        "colab": {}
      },
      "source": [
        "import pandas as pd\n",
        "import matplotlib.pyplot as plt\n"
      ],
      "execution_count": 0,
      "outputs": []
    },
    {
      "cell_type": "code",
      "metadata": {
        "id": "6K2291Eb-0MX",
        "colab_type": "code",
        "colab": {}
      },
      "source": [
        "# loading data\n",
        "df=pd.read_csv(\"http://13.234.66.67/summer19/datasets/salary.csv\")\n"
      ],
      "execution_count": 0,
      "outputs": []
    },
    {
      "cell_type": "code",
      "metadata": {
        "id": "-TnI0SE1-3wB",
        "colab_type": "code",
        "outputId": "94f1cbb6-19a0-4e30-eb2f-30957cde2b31",
        "colab": {
          "base_uri": "https://localhost:8080/",
          "height": 139
        }
      },
      "source": [
        "# schema\n",
        "df.info()\n"
      ],
      "execution_count": 0,
      "outputs": [
        {
          "output_type": "stream",
          "text": [
            "<class 'pandas.core.frame.DataFrame'>\n",
            "RangeIndex: 30 entries, 0 to 29\n",
            "Data columns (total 2 columns):\n",
            "YearsExperience    30 non-null float64\n",
            "Salary             30 non-null float64\n",
            "dtypes: float64(2)\n",
            "memory usage: 560.0 bytes\n"
          ],
          "name": "stdout"
        }
      ]
    },
    {
      "cell_type": "code",
      "metadata": {
        "id": "ewoRkuwf-6Tb",
        "colab_type": "code",
        "colab": {}
      },
      "source": [
        "# experience that we are going to use as input of training data\n",
        "exp=df.iloc[:,0:1].values\n"
      ],
      "execution_count": 0,
      "outputs": []
    },
    {
      "cell_type": "code",
      "metadata": {
        "id": "-qc6tb3q-81t",
        "colab_type": "code",
        "colab": {}
      },
      "source": [
        "# actual salary\n",
        "sal=df.iloc[:,1:].values\n"
      ],
      "execution_count": 0,
      "outputs": []
    },
    {
      "cell_type": "code",
      "metadata": {
        "id": "uY-gJfun-_PZ",
        "colab_type": "code",
        "outputId": "d59cb41e-f1fb-4732-843e-a90e00acf23a",
        "colab": {
          "base_uri": "https://localhost:8080/",
          "height": 301
        }
      },
      "source": [
        "# now we can visualize this eperience and sal data\n",
        "plt.xlabel(\"eperience\")\n",
        "plt.ylabel('salary')\n",
        "plt.scatter(exp,sal)\n",
        "#plt.show()\n",
        "\n",
        "\n"
      ],
      "execution_count": 0,
      "outputs": [
        {
          "output_type": "execute_result",
          "data": {
            "text/plain": [
              "<matplotlib.collections.PathCollection at 0x7f710df615f8>"
            ]
          },
          "metadata": {
            "tags": []
          },
          "execution_count": 17
        },
        {
          "output_type": "display_data",
          "data": {
            "image/png": "[encoded data removed]",
            "text/plain": [
              "<Figure size 432x288 with 1 Axes>"
            ]
          },
          "metadata": {
            "tags": []
          }
        }
      ]
    },
    {
      "cell_type": "code",
      "metadata": {
        "id": "yElz8_a4_BiX",
        "colab_type": "code",
        "colab": {}
      },
      "source": [
        "#cLLING LINEAR REGRESSION\n",
        "from sklearn.linear_model import LinearRegression\n"
      ],
      "execution_count": 0,
      "outputs": []
    },
    {
      "cell_type": "code",
      "metadata": {
        "id": "ZyNG2Dld_D5T",
        "colab_type": "code",
        "colab": {}
      },
      "source": [
        "# model creation\n",
        "regr=LinearRegression()\n"
      ],
      "execution_count": 0,
      "outputs": []
    },
    {
      "cell_type": "code",
      "metadata": {
        "id": "C2R1mGBM_GO_",
        "colab_type": "code",
        "colab": {}
      },
      "source": [
        "# fitttng exp and salary\n",
        "trained=regr.fit(exp,sal)\n"
      ],
      "execution_count": 0,
      "outputs": []
    },
    {
      "cell_type": "code",
      "metadata": {
        "id": "EIEwy5Yn_H1C",
        "colab_type": "code",
        "outputId": "07c694dd-f596-4e23-a7f4-eb13b8db0812",
        "colab": {
          "base_uri": "https://localhost:8080/",
          "height": 283
        }
      },
      "source": [
        "# now we can visualize this eperience and sal data\n",
        "plt.xlabel(\"eperience\")\n",
        "plt.ylabel('salary')\n",
        "plt.scatter(exp,sal,label=\"actual dta as per exp\")\n",
        "plt.plot(exp,trained.predict(exp),label=\"predicted salary\")\n",
        "plt.legend()\n",
        "plt.show()"
      ],
      "execution_count": 0,
      "outputs": [
        {
          "output_type": "display_data",
          "data": {
            "image/png": "[encoded data removed]",
            "text/plain": [
              "<Figure size 432x288 with 1 Axes>"
            ]
          },
          "metadata": {
            "tags": []
          }
        }
      ]
    },
    {
      "cell_type": "code",
      "metadata": {
        "id": "dQYAX8gB_KOA",
        "colab_type": "code",
        "colab": {}
      },
      "source": [
        ""
      ],
      "execution_count": 0,
      "outputs": []
    },
    {
      "cell_type": "code",
      "metadata": {
        "id": "mW1mlnOq_b-I",
        "colab_type": "code",
        "colab": {}
      },
      "source": [
        ""
      ],
      "execution_count": 0,
      "outputs": []
    }
  ]
}