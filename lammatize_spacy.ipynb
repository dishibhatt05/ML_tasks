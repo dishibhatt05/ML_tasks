{
  "nbformat": 4,
  "nbformat_minor": 0,
  "metadata": {
    "colab": {
      "name": "lammatize_spacy.ipynb",
      "version": "0.3.2",
      "provenance": [],
      "collapsed_sections": [],
      "include_colab_link": true
    },
    "kernelspec": {
      "name": "python3",
      "display_name": "Python 3"
    }
  },
  "cells": [
    {
      "cell_type": "markdown",
      "metadata": {
        "id": "view-in-github",
        "colab_type": "text"
      },
      "source": [
        "<a href=\"https://colab.research.google.com/github/dishibhatt05/machine-learning/blob/supervised_learning/lammatize_spacy.ipynb\" target=\"_parent\"><img src=\"https://colab.research.google.com/assets/colab-badge.svg\" alt=\"Open In Colab\"/></a>"
      ]
    },
    {
      "cell_type": "code",
      "metadata": {
        "id": "IgVxQDYIeL_A",
        "colab_type": "code",
        "colab": {}
      },
      "source": [
        "import spacy"
      ],
      "execution_count": 0,
      "outputs": []
    },
    {
      "cell_type": "code",
      "metadata": {
        "id": "N9GvkxcjecGs",
        "colab_type": "code",
        "colab": {}
      },
      "source": [
        "# language\n",
        "nlp=spacy.load('en')"
      ],
      "execution_count": 0,
      "outputs": []
    },
    {
      "cell_type": "code",
      "metadata": {
        "id": "Dos-F_a6ei9Y",
        "colab_type": "code",
        "colab": {}
      },
      "source": [
        "data=\"hello world i am going outside for playng cricket\""
      ],
      "execution_count": 0,
      "outputs": []
    },
    {
      "cell_type": "code",
      "metadata": {
        "id": "gpGlEcETfQ7b",
        "colab_type": "code",
        "colab": {}
      },
      "source": [
        "# automatic tokenize\n",
        "new_data=nlp(data)"
      ],
      "execution_count": 0,
      "outputs": []
    },
    {
      "cell_type": "code",
      "metadata": {
        "id": "L8A_8yFQfR_V",
        "colab_type": "code",
        "outputId": "bf9d15f5-9a3c-41e9-cee7-d76122031487",
        "colab": {
          "base_uri": "https://localhost:8080/",
          "height": 485
        }
      },
      "source": [
        "for i in new_data:\n",
        "  print(i,\" ---lemmatization of word is --- \",i.lemma_)\n",
        "  print(\"########\")\n",
        "  # parts of speechs\n",
        "  print(i,\"POS\", i.pos)"
      ],
      "execution_count": 5,
      "outputs": [
        {
          "output_type": "stream",
          "text": [
            "hello  ---lemmatization of word is ---  hello\n",
            "########\n",
            "hello POS 91\n",
            "world  ---lemmatization of word is ---  world\n",
            "########\n",
            "world POS 92\n",
            "i  ---lemmatization of word is ---  i\n",
            "########\n",
            "i POS 95\n",
            "am  ---lemmatization of word is ---  be\n",
            "########\n",
            "am POS 100\n",
            "going  ---lemmatization of word is ---  go\n",
            "########\n",
            "going POS 100\n",
            "outside  ---lemmatization of word is ---  outside\n",
            "########\n",
            "outside POS 86\n",
            "for  ---lemmatization of word is ---  for\n",
            "########\n",
            "for POS 85\n",
            "playng  ---lemmatization of word is ---  playng\n",
            "########\n",
            "playng POS 92\n",
            "cricket  ---lemmatization of word is ---  cricket\n",
            "########\n",
            "cricket POS 92\n"
          ],
          "name": "stdout"
        }
      ]
    },
    {
      "cell_type": "code",
      "metadata": {
        "id": "XV5x8CC4fZX5",
        "colab_type": "code",
        "colab": {}
      },
      "source": [
        "  "
      ],
      "execution_count": 0,
      "outputs": []
    }
  ]
}