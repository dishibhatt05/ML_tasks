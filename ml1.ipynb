{
  "nbformat": 4,
  "nbformat_minor": 0,
  "metadata": {
    "colab": {
      "name": "ml1.ipynb",
      "version": "0.3.2",
      "provenance": [],
      "collapsed_sections": [],
      "include_colab_link": true
    },
    "kernelspec": {
      "name": "python3",
      "display_name": "Python 3"
    }
  },
  "cells": [
    {
      "cell_type": "markdown",
      "metadata": {
        "id": "view-in-github",
        "colab_type": "text"
      },
      "source": [
        "<a href=\"https://colab.research.google.com/github/dishibhatt05/ML_tasks/blob/data_processing/ml1.ipynb\" target=\"_parent\"><img src=\"https://colab.research.google.com/assets/colab-badge.svg\" alt=\"Open In Colab\"/></a>"
      ]
    },
    {
      "cell_type": "code",
      "metadata": {
        "id": "qVfmeMLVcEng",
        "colab_type": "code",
        "colab": {}
      },
      "source": [
        "'''\n",
        "create 2D numpy  based array with given conditions:\n",
        "\n",
        "i)   take input from user in terms of dimension like (3x2 or 6x7)\n",
        "ii)   fill this numpy array with random number\n",
        "iii)  store this array in a file\n",
        "\n",
        "'''"
      ],
      "execution_count": 0,
      "outputs": []
    },
    {
      "cell_type": "code",
      "metadata": {
        "id": "pXNv714Rcd9y",
        "colab_type": "code",
        "colab": {}
      },
      "source": [
        "import numpy as np\n",
        "import random"
      ],
      "execution_count": 0,
      "outputs": []
    },
    {
      "cell_type": "code",
      "metadata": {
        "id": "BbWygzRodB57",
        "colab_type": "code",
        "outputId": "352eec8c-c8de-439c-f521-16c71956ec55",
        "colab": {
          "base_uri": "https://localhost:8080/",
          "height": 139
        }
      },
      "source": [
        "row=int(input(\"enter rows\"))\n",
        "col=int(input(\"enter columns\"))\n",
        "print('row are',row)\n",
        "print('columns are',col)\n",
        "a = np.random.random((row,col))\n",
        "np.savetxt('file.txt',a)\n",
        "np.loadtxt('file.txt')\n"
      ],
      "execution_count": 0,
      "outputs": [
        {
          "output_type": "stream",
          "text": [
            "enter rows3\n",
            "enter columns2\n",
            "row are 3\n",
            "columns are 2\n"
          ],
          "name": "stdout"
        },
        {
          "output_type": "execute_result",
          "data": {
            "text/plain": [
              "array([[0.44230166, 0.96167769],\n",
              "       [0.14801283, 0.81040239],\n",
              "       [0.43242939, 0.58719039]])"
            ]
          },
          "metadata": {
            "tags": []
          },
          "execution_count": 9
        }
      ]
    },
    {
      "cell_type": "code",
      "metadata": {
        "id": "LXsNfmRFdT8A",
        "colab_type": "code",
        "colab": {}
      },
      "source": [
        ""
      ],
      "execution_count": 0,
      "outputs": []
    }
  ]
}