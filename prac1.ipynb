{
  "nbformat": 4,
  "nbformat_minor": 0,
  "metadata": {
    "colab": {
      "name": "prac1.ipynb",
      "version": "0.3.2",
      "provenance": [],
      "collapsed_sections": [],
      "include_colab_link": true
    },
    "kernelspec": {
      "name": "python3",
      "display_name": "Python 3"
    }
  },
  "cells": [
    {
      "cell_type": "markdown",
      "metadata": {
        "id": "view-in-github",
        "colab_type": "text"
      },
      "source": [
        "<a href=\"https://colab.research.google.com/github/dishibhatt05/ML_tasks/blob/data_processing/prac1.ipynb\" target=\"_parent\"><img src=\"https://colab.research.google.com/assets/colab-badge.svg\" alt=\"Open In Colab\"/></a>"
      ]
    },
    {
      "cell_type": "code",
      "metadata": {
        "id": "_mbahs-fqVxU",
        "colab_type": "code",
        "colab": {}
      },
      "source": [
        "import numpy as n"
      ],
      "execution_count": 0,
      "outputs": []
    },
    {
      "cell_type": "code",
      "metadata": {
        "id": "gPDRzZvvqcsZ",
        "colab_type": "code",
        "outputId": "12350bac-8c7d-4c9d-bbc7-a517e9c1044f",
        "colab": {
          "base_uri": "https://localhost:8080/",
          "height": 52
        }
      },
      "source": [
        "a=input(\"enter array\")\n",
        "a=n.array(a)\n",
        "print(a)"
      ],
      "execution_count": 0,
      "outputs": [
        {
          "output_type": "stream",
          "text": [
            "enter array[[1,2],[3,4]]\n",
            "[[1,2],[3,4]]\n"
          ],
          "name": "stdout"
        }
      ]
    },
    {
      "cell_type": "code",
      "metadata": {
        "id": "9QHvgv_uqx2x",
        "colab_type": "code",
        "colab": {}
      },
      "source": [
        "import random as r"
      ],
      "execution_count": 0,
      "outputs": []
    },
    {
      "cell_type": "code",
      "metadata": {
        "id": "sCIcP_a3svzR",
        "colab_type": "code",
        "outputId": "8765155a-f58b-446d-bcf3-fe6a3527181e",
        "colab": {
          "base_uri": "https://localhost:8080/",
          "height": 69
        }
      },
      "source": [
        "n.random.random((3,2))"
      ],
      "execution_count": 0,
      "outputs": [
        {
          "output_type": "execute_result",
          "data": {
            "text/plain": [
              "array([[0.82005486, 0.61219744],\n",
              "       [0.93846759, 0.26666605],\n",
              "       [0.93239485, 0.06125835]])"
            ]
          },
          "metadata": {
            "tags": []
          },
          "execution_count": 5
        }
      ]
    },
    {
      "cell_type": "code",
      "metadata": {
        "id": "-1jEjGVDs9ka",
        "colab_type": "code",
        "colab": {}
      },
      "source": [
        "[[random.random() for x in xrange(5)] for y in xrange(4)]"
      ],
      "execution_count": 0,
      "outputs": []
    },
    {
      "cell_type": "code",
      "metadata": {
        "id": "a7oHLMn3tghq",
        "colab_type": "code",
        "colab": {}
      },
      "source": [
        "x=n.random.random((3,2))\n",
        "y=n.random.random((2,5))"
      ],
      "execution_count": 0,
      "outputs": []
    },
    {
      "cell_type": "code",
      "metadata": {
        "id": "ejYCVgMMuIFo",
        "colab_type": "code",
        "outputId": "ef797a07-2b87-4fbb-df6d-5ad3a0d57280",
        "colab": {
          "base_uri": "https://localhost:8080/",
          "height": 69
        }
      },
      "source": [
        "x\n"
      ],
      "execution_count": 0,
      "outputs": [
        {
          "output_type": "execute_result",
          "data": {
            "text/plain": [
              "array([[0.16148954, 0.20465613],\n",
              "       [0.80644619, 0.40605573],\n",
              "       [0.36607056, 0.06702076]])"
            ]
          },
          "metadata": {
            "tags": []
          },
          "execution_count": 8
        }
      ]
    },
    {
      "cell_type": "code",
      "metadata": {
        "id": "8MOGExwWuJvh",
        "colab_type": "code",
        "outputId": "e16d9ba6-38f3-4417-d526-728f266b0d8a",
        "colab": {
          "base_uri": "https://localhost:8080/",
          "height": 52
        }
      },
      "source": [
        "y"
      ],
      "execution_count": 0,
      "outputs": [
        {
          "output_type": "execute_result",
          "data": {
            "text/plain": [
              "array([[0.58646271, 0.02439438, 0.18264678, 0.63062653, 0.16636884],\n",
              "       [0.78262397, 0.77461313, 0.91624255, 0.42099504, 0.11303438]])"
            ]
          },
          "metadata": {
            "tags": []
          },
          "execution_count": 9
        }
      ]
    },
    {
      "cell_type": "code",
      "metadata": {
        "id": "XCytjJpFuK-k",
        "colab_type": "code",
        "outputId": "c2f1619e-2b67-4683-ddf6-993de8052588",
        "colab": {
          "base_uri": "https://localhost:8080/",
          "height": 69
        }
      },
      "source": [
        "#from tempfile import TemporaryFile\n",
        "#file1=TemporaryFile()\n",
        "n.save(file1,x)\n",
        "file1.seek(0)\n",
        "n.load(file1)"
      ],
      "execution_count": 0,
      "outputs": [
        {
          "output_type": "execute_result",
          "data": {
            "text/plain": [
              "array([[0.16148954, 0.20465613],\n",
              "       [0.80644619, 0.40605573],\n",
              "       [0.36607056, 0.06702076]])"
            ]
          },
          "metadata": {
            "tags": []
          },
          "execution_count": 18
        }
      ]
    },
    {
      "cell_type": "code",
      "metadata": {
        "id": "4RlH6fJEu7No",
        "colab_type": "code",
        "outputId": "4d96a882-7482-44b6-db4b-68fbfc8783a7",
        "colab": {
          "base_uri": "https://localhost:8080/",
          "height": 52
        }
      },
      "source": [
        "sampl = n.random.uniform(low=0, high=10, size=(10,))\n",
        "sampl"
      ],
      "execution_count": 0,
      "outputs": [
        {
          "output_type": "execute_result",
          "data": {
            "text/plain": [
              "array([2.24555194, 3.43962391, 3.86567563, 8.24058919, 0.92736734,\n",
              "       6.56615229, 7.71331392, 2.27418781, 3.93568106, 8.98980824])"
            ]
          },
          "metadata": {
            "tags": []
          },
          "execution_count": 16
        }
      ]
    },
    {
      "cell_type": "code",
      "metadata": {
        "id": "a9cvzW3cwGRD",
        "colab_type": "code",
        "colab": {}
      },
      "source": [
        "import itertools\n",
        "\n",
        "for item in itertools.permutations(x.reshape(2), 2):\n",
        "    print(n.array(item).reshape(3,3))"
      ],
      "execution_count": 0,
      "outputs": []
    },
    {
      "cell_type": "code",
      "metadata": {
        "id": "G7yreW2q_QHr",
        "colab_type": "code",
        "colab": {}
      },
      "source": [
        ""
      ],
      "execution_count": 0,
      "outputs": []
    }
  ]
}