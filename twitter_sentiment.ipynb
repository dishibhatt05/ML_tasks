{
  "nbformat": 4,
  "nbformat_minor": 0,
  "metadata": {
    "colab": {
      "name": "twitter_sentiment.ipynb",
      "version": "0.3.2",
      "provenance": [],
      "collapsed_sections": [],
      "include_colab_link": true
    },
    "kernelspec": {
      "name": "python3",
      "display_name": "Python 3"
    }
  },
  "cells": [
    {
      "cell_type": "markdown",
      "metadata": {
        "id": "view-in-github",
        "colab_type": "text"
      },
      "source": [
        "<a href=\"https://colab.research.google.com/github/dishibhatt05/machine-learning/blob/supervised_learning/twitter_sentiment.ipynb\" target=\"_parent\"><img src=\"https://colab.research.google.com/assets/colab-badge.svg\" alt=\"Open In Colab\"/></a>"
      ]
    },
    {
      "cell_type": "code",
      "metadata": {
        "id": "cprQ215SJ7as",
        "colab_type": "code",
        "colab": {}
      },
      "source": [
        "import tweepy\n",
        "import matplotlib.pyplot as plt\n",
        "import time\n",
        "from textblob import TextBlob"
      ],
      "execution_count": 0,
      "outputs": []
    },
    {
      "cell_type": "code",
      "metadata": {
        "id": "eRasd0wYLEKK",
        "colab_type": "code",
        "colab": {}
      },
      "source": [
        "# all 4 authentication keys to access twitter API\n",
        "# to connet as oath handler pr jump server / reverse proxy server\n",
        "consumer_key=\"k7i7P2mmDsl8g2WKHQ6YsnbwX\"\n",
        "consumer_sec=\"HKQveRy1AdXtz8hzb8EHfCbGYsclZwEGp2KKWHtxgtnBWDjYhi\"\n",
        "  \n",
        "# from proxy server we need to connect to web server of twitter to access token or secret token\n",
        "access_token=\"1146329831463739392-HQdUlTxIm4TNYNWJkMkNvQeSmWzG3l\"\n",
        "access_sec=\"pSjEyuusq9QyjSOjVpLQXkZlFXDWNCUzrJ9lXPpgFN55r\""
      ],
      "execution_count": 0,
      "outputs": []
    },
    {
      "cell_type": "code",
      "metadata": {
        "id": "o8LtnfX1MGXu",
        "colab_type": "code",
        "colab": {}
      },
      "source": [
        "# tweepy explore\n",
        "# connecting to jump server of twitter\n",
        "auth=tweepy.OAuthHandler(consumer_key,consumer_sec)"
      ],
      "execution_count": 0,
      "outputs": []
    },
    {
      "cell_type": "code",
      "metadata": {
        "id": "3c9GB-9gOhuS",
        "colab_type": "code",
        "colab": {}
      },
      "source": [
        "# now we can connect from jumo server to web server of twitter\n",
        "auth.set_access_token(access_token,access_sec)"
      ],
      "execution_count": 0,
      "outputs": []
    },
    {
      "cell_type": "code",
      "metadata": {
        "id": "HIhg_H-4POm6",
        "colab_type": "code",
        "colab": {}
      },
      "source": [
        "# now we can connect to API storage server of twitter\n",
        "api_connect=tweepy.API(auth)\n"
      ],
      "execution_count": 0,
      "outputs": []
    },
    {
      "cell_type": "code",
      "metadata": {
        "id": "NhsFhVNOPeDx",
        "colab_type": "code",
        "colab": {}
      },
      "source": [
        "# now we can serve any topic on twitter\n",
        "tweet_data=api_connect.search(\"dalai lama\",count=100)"
      ],
      "execution_count": 0,
      "outputs": []
    },
    {
      "cell_type": "code",
      "metadata": {
        "id": "sRO5fyGmPq4b",
        "colab_type": "code",
        "colab": {}
      },
      "source": [
        "# print in line by line \n",
        "#for tweet in tweet_data:\n",
        "  #print(tweet.text)\n",
        "  # it will apply nlp \n",
        "  #analysis=TextBlob(tweet.text)\n",
        "  #print(analysis.sentiment)\n",
        "  #time.sleep(1)"
      ],
      "execution_count": 0,
      "outputs": []
    },
    {
      "cell_type": "code",
      "metadata": {
        "id": "ty3FjsvtQJPf",
        "colab_type": "code",
        "outputId": "67aff2ab-4a9f-4767-bf88-5b214ce9e747",
        "colab": {
          "base_uri": "https://localhost:8080/",
          "height": 1000
        }
      },
      "source": [
        "pos=0\n",
        "neu=0\n",
        "neg=0\n",
        "for tweet in tweet_data:\n",
        "  analysis=TextBlob(tweet.text)\n",
        "  if analysis .sentiment.polarity>0:\n",
        "    print('positive')\n",
        "    pos=pos+1\n",
        "  elif analysis.sentiment.polarity==0:\n",
        "    print('neutral')\n",
        "    neu=neu+1\n",
        "  else:\n",
        "    print('negative')\n",
        "    neg=neg+1\n",
        "    "
      ],
      "execution_count": 0,
      "outputs": [
        {
          "output_type": "stream",
          "text": [
            "positive\n",
            "positive\n",
            "negative\n",
            "negative\n",
            "positive\n",
            "positive\n",
            "neutral\n",
            "positive\n",
            "neutral\n",
            "positive\n",
            "positive\n",
            "negative\n",
            "positive\n",
            "neutral\n",
            "positive\n",
            "positive\n",
            "neutral\n",
            "neutral\n",
            "neutral\n",
            "negative\n",
            "neutral\n",
            "neutral\n",
            "positive\n",
            "positive\n",
            "neutral\n",
            "positive\n",
            "positive\n",
            "negative\n",
            "neutral\n",
            "neutral\n",
            "neutral\n",
            "neutral\n",
            "neutral\n",
            "neutral\n",
            "negative\n",
            "negative\n",
            "negative\n",
            "positive\n",
            "neutral\n",
            "negative\n",
            "neutral\n",
            "positive\n",
            "negative\n",
            "neutral\n",
            "neutral\n",
            "negative\n",
            "negative\n",
            "negative\n",
            "neutral\n",
            "positive\n",
            "negative\n",
            "negative\n",
            "negative\n",
            "neutral\n",
            "negative\n",
            "positive\n",
            "neutral\n",
            "neutral\n",
            "neutral\n",
            "neutral\n",
            "neutral\n",
            "neutral\n",
            "neutral\n",
            "neutral\n",
            "neutral\n",
            "negative\n",
            "neutral\n",
            "neutral\n",
            "positive\n",
            "neutral\n",
            "neutral\n",
            "neutral\n",
            "neutral\n",
            "positive\n",
            "positive\n",
            "neutral\n",
            "neutral\n",
            "positive\n"
          ],
          "name": "stdout"
        }
      ]
    },
    {
      "cell_type": "code",
      "metadata": {
        "id": "kAjCpjtOUzG_",
        "colab_type": "code",
        "outputId": "cd553166-bff4-402d-f899-762095510191",
        "colab": {
          "base_uri": "https://localhost:8080/",
          "height": 301
        }
      },
      "source": [
        "# plotting graphs\n",
        "plt.xlabel('tags')\n",
        "plt.ylabel(\"polarity\")\n",
        "plt.bar(['pos','neg','neu'],[pos,neg,neu])"
      ],
      "execution_count": 0,
      "outputs": [
        {
          "output_type": "execute_result",
          "data": {
            "text/plain": [
              "<BarContainer object of 3 artists>"
            ]
          },
          "metadata": {
            "tags": []
          },
          "execution_count": 78
        },
        {
          "output_type": "display_data",
          "data": {
            "image/png": "[encoded data removed]",
            "text/plain": [
              "<Figure size 432x288 with 1 Axes>"
            ]
          },
          "metadata": {
            "tags": []
          }
        }
      ]
    },
    {
      "cell_type": "code",
      "metadata": {
        "id": "5QCoFPIvVLtw",
        "colab_type": "code",
        "outputId": "0d73f254-2d43-4ff5-905c-77b5bc218f2f",
        "colab": {
          "base_uri": "https://localhost:8080/",
          "height": 255
        }
      },
      "source": [
        "plt.pie([pos,neg,neu],labels=['pos','neg','neu'],autopct ='%1.1f%%')\n",
        "plt.legend()\n",
        "plt.show()"
      ],
      "execution_count": 0,
      "outputs": [
        {
          "output_type": "display_data",
          "data": {
            "image/png": "[encoded data removed]",
            "text/plain": [
              "<Figure size 432x288 with 1 Axes>"
            ]
          },
          "metadata": {
            "tags": []
          }
        }
      ]
    },
    {
      "cell_type": "code",
      "metadata": {
        "id": "Wnd0QXMUV1tF",
        "colab_type": "code",
        "colab": {}
      },
      "source": [
        ""
      ],
      "execution_count": 0,
      "outputs": []
    }
  ]
}